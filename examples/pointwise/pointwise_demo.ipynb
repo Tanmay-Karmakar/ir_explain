{
  "nbformat": 4,
  "nbformat_minor": 0,
  "metadata": {
    "colab": {
      "provenance": [],
      "collapsed_sections": [
        "tSmrGIg9hVib"
      ]
    },
    "kernelspec": {
      "name": "python3",
      "display_name": "Python 3"
    },
    "language_info": {
      "name": "python"
    },
    "widgets": {
      "application/vnd.jupyter.widget-state+json": {
        "336ea7ab7ed4451db4ab47f6e6d2aa15": {
          "model_module": "@jupyter-widgets/controls",
          "model_name": "HBoxModel",
          "model_module_version": "1.5.0",
          "state": {
            "_dom_classes": [],
            "_model_module": "@jupyter-widgets/controls",
            "_model_module_version": "1.5.0",
            "_model_name": "HBoxModel",
            "_view_count": null,
            "_view_module": "@jupyter-widgets/controls",
            "_view_module_version": "1.5.0",
            "_view_name": "HBoxView",
            "box_style": "",
            "children": [
              "IPY_MODEL_259ff4aefabf40dab766b61deec9d75c",
              "IPY_MODEL_0956e8335c5b4f2fb1a9bac77d3292ca",
              "IPY_MODEL_7479aee15bb645cb8b3a82ab0ffa02d2"
            ],
            "layout": "IPY_MODEL_873b377d6ff64354b2c996d48ed880d0"
          }
        },
        "259ff4aefabf40dab766b61deec9d75c": {
          "model_module": "@jupyter-widgets/controls",
          "model_name": "HTMLModel",
          "model_module_version": "1.5.0",
          "state": {
            "_dom_classes": [],
            "_model_module": "@jupyter-widgets/controls",
            "_model_module_version": "1.5.0",
            "_model_name": "HTMLModel",
            "_view_count": null,
            "_view_module": "@jupyter-widgets/controls",
            "_view_module_version": "1.5.0",
            "_view_name": "HTMLView",
            "description": "",
            "description_tooltip": null,
            "layout": "IPY_MODEL_b0ec7717a2024503a17d38baf544f3e0",
            "placeholder": "​",
            "style": "IPY_MODEL_3bfd0fed307747b69ceb3204231e0395",
            "value": "Batches: 100%"
          }
        },
        "0956e8335c5b4f2fb1a9bac77d3292ca": {
          "model_module": "@jupyter-widgets/controls",
          "model_name": "FloatProgressModel",
          "model_module_version": "1.5.0",
          "state": {
            "_dom_classes": [],
            "_model_module": "@jupyter-widgets/controls",
            "_model_module_version": "1.5.0",
            "_model_name": "FloatProgressModel",
            "_view_count": null,
            "_view_module": "@jupyter-widgets/controls",
            "_view_module_version": "1.5.0",
            "_view_name": "ProgressView",
            "bar_style": "success",
            "description": "",
            "description_tooltip": null,
            "layout": "IPY_MODEL_66c5b24230cc461990984dd5afb2991a",
            "max": 1,
            "min": 0,
            "orientation": "horizontal",
            "style": "IPY_MODEL_e001e0a1192c4faa9e71a10df4d43964",
            "value": 1
          }
        },
        "7479aee15bb645cb8b3a82ab0ffa02d2": {
          "model_module": "@jupyter-widgets/controls",
          "model_name": "HTMLModel",
          "model_module_version": "1.5.0",
          "state": {
            "_dom_classes": [],
            "_model_module": "@jupyter-widgets/controls",
            "_model_module_version": "1.5.0",
            "_model_name": "HTMLModel",
            "_view_count": null,
            "_view_module": "@jupyter-widgets/controls",
            "_view_module_version": "1.5.0",
            "_view_name": "HTMLView",
            "description": "",
            "description_tooltip": null,
            "layout": "IPY_MODEL_e59483b18800422080202e30c59dfab3",
            "placeholder": "​",
            "style": "IPY_MODEL_e32524e07a7640ce94f843f9f22da17c",
            "value": " 1/1 [00:06&lt;00:00,  6.47s/it]"
          }
        },
        "873b377d6ff64354b2c996d48ed880d0": {
          "model_module": "@jupyter-widgets/base",
          "model_name": "LayoutModel",
          "model_module_version": "1.2.0",
          "state": {
            "_model_module": "@jupyter-widgets/base",
            "_model_module_version": "1.2.0",
            "_model_name": "LayoutModel",
            "_view_count": null,
            "_view_module": "@jupyter-widgets/base",
            "_view_module_version": "1.2.0",
            "_view_name": "LayoutView",
            "align_content": null,
            "align_items": null,
            "align_self": null,
            "border": null,
            "bottom": null,
            "display": null,
            "flex": null,
            "flex_flow": null,
            "grid_area": null,
            "grid_auto_columns": null,
            "grid_auto_flow": null,
            "grid_auto_rows": null,
            "grid_column": null,
            "grid_gap": null,
            "grid_row": null,
            "grid_template_areas": null,
            "grid_template_columns": null,
            "grid_template_rows": null,
            "height": null,
            "justify_content": null,
            "justify_items": null,
            "left": null,
            "margin": null,
            "max_height": null,
            "max_width": null,
            "min_height": null,
            "min_width": null,
            "object_fit": null,
            "object_position": null,
            "order": null,
            "overflow": null,
            "overflow_x": null,
            "overflow_y": null,
            "padding": null,
            "right": null,
            "top": null,
            "visibility": null,
            "width": null
          }
        },
        "b0ec7717a2024503a17d38baf544f3e0": {
          "model_module": "@jupyter-widgets/base",
          "model_name": "LayoutModel",
          "model_module_version": "1.2.0",
          "state": {
            "_model_module": "@jupyter-widgets/base",
            "_model_module_version": "1.2.0",
            "_model_name": "LayoutModel",
            "_view_count": null,
            "_view_module": "@jupyter-widgets/base",
            "_view_module_version": "1.2.0",
            "_view_name": "LayoutView",
            "align_content": null,
            "align_items": null,
            "align_self": null,
            "border": null,
            "bottom": null,
            "display": null,
            "flex": null,
            "flex_flow": null,
            "grid_area": null,
            "grid_auto_columns": null,
            "grid_auto_flow": null,
            "grid_auto_rows": null,
            "grid_column": null,
            "grid_gap": null,
            "grid_row": null,
            "grid_template_areas": null,
            "grid_template_columns": null,
            "grid_template_rows": null,
            "height": null,
            "justify_content": null,
            "justify_items": null,
            "left": null,
            "margin": null,
            "max_height": null,
            "max_width": null,
            "min_height": null,
            "min_width": null,
            "object_fit": null,
            "object_position": null,
            "order": null,
            "overflow": null,
            "overflow_x": null,
            "overflow_y": null,
            "padding": null,
            "right": null,
            "top": null,
            "visibility": null,
            "width": null
          }
        },
        "3bfd0fed307747b69ceb3204231e0395": {
          "model_module": "@jupyter-widgets/controls",
          "model_name": "DescriptionStyleModel",
          "model_module_version": "1.5.0",
          "state": {
            "_model_module": "@jupyter-widgets/controls",
            "_model_module_version": "1.5.0",
            "_model_name": "DescriptionStyleModel",
            "_view_count": null,
            "_view_module": "@jupyter-widgets/base",
            "_view_module_version": "1.2.0",
            "_view_name": "StyleView",
            "description_width": ""
          }
        },
        "66c5b24230cc461990984dd5afb2991a": {
          "model_module": "@jupyter-widgets/base",
          "model_name": "LayoutModel",
          "model_module_version": "1.2.0",
          "state": {
            "_model_module": "@jupyter-widgets/base",
            "_model_module_version": "1.2.0",
            "_model_name": "LayoutModel",
            "_view_count": null,
            "_view_module": "@jupyter-widgets/base",
            "_view_module_version": "1.2.0",
            "_view_name": "LayoutView",
            "align_content": null,
            "align_items": null,
            "align_self": null,
            "border": null,
            "bottom": null,
            "display": null,
            "flex": null,
            "flex_flow": null,
            "grid_area": null,
            "grid_auto_columns": null,
            "grid_auto_flow": null,
            "grid_auto_rows": null,
            "grid_column": null,
            "grid_gap": null,
            "grid_row": null,
            "grid_template_areas": null,
            "grid_template_columns": null,
            "grid_template_rows": null,
            "height": null,
            "justify_content": null,
            "justify_items": null,
            "left": null,
            "margin": null,
            "max_height": null,
            "max_width": null,
            "min_height": null,
            "min_width": null,
            "object_fit": null,
            "object_position": null,
            "order": null,
            "overflow": null,
            "overflow_x": null,
            "overflow_y": null,
            "padding": null,
            "right": null,
            "top": null,
            "visibility": null,
            "width": null
          }
        },
        "e001e0a1192c4faa9e71a10df4d43964": {
          "model_module": "@jupyter-widgets/controls",
          "model_name": "ProgressStyleModel",
          "model_module_version": "1.5.0",
          "state": {
            "_model_module": "@jupyter-widgets/controls",
            "_model_module_version": "1.5.0",
            "_model_name": "ProgressStyleModel",
            "_view_count": null,
            "_view_module": "@jupyter-widgets/base",
            "_view_module_version": "1.2.0",
            "_view_name": "StyleView",
            "bar_color": null,
            "description_width": ""
          }
        },
        "e59483b18800422080202e30c59dfab3": {
          "model_module": "@jupyter-widgets/base",
          "model_name": "LayoutModel",
          "model_module_version": "1.2.0",
          "state": {
            "_model_module": "@jupyter-widgets/base",
            "_model_module_version": "1.2.0",
            "_model_name": "LayoutModel",
            "_view_count": null,
            "_view_module": "@jupyter-widgets/base",
            "_view_module_version": "1.2.0",
            "_view_name": "LayoutView",
            "align_content": null,
            "align_items": null,
            "align_self": null,
            "border": null,
            "bottom": null,
            "display": null,
            "flex": null,
            "flex_flow": null,
            "grid_area": null,
            "grid_auto_columns": null,
            "grid_auto_flow": null,
            "grid_auto_rows": null,
            "grid_column": null,
            "grid_gap": null,
            "grid_row": null,
            "grid_template_areas": null,
            "grid_template_columns": null,
            "grid_template_rows": null,
            "height": null,
            "justify_content": null,
            "justify_items": null,
            "left": null,
            "margin": null,
            "max_height": null,
            "max_width": null,
            "min_height": null,
            "min_width": null,
            "object_fit": null,
            "object_position": null,
            "order": null,
            "overflow": null,
            "overflow_x": null,
            "overflow_y": null,
            "padding": null,
            "right": null,
            "top": null,
            "visibility": null,
            "width": null
          }
        },
        "e32524e07a7640ce94f843f9f22da17c": {
          "model_module": "@jupyter-widgets/controls",
          "model_name": "DescriptionStyleModel",
          "model_module_version": "1.5.0",
          "state": {
            "_model_module": "@jupyter-widgets/controls",
            "_model_module_version": "1.5.0",
            "_model_name": "DescriptionStyleModel",
            "_view_count": null,
            "_view_module": "@jupyter-widgets/base",
            "_view_module_version": "1.2.0",
            "_view_name": "StyleView",
            "description_width": ""
          }
        },
        "6745f14155f84e60ac7b8f10d9fb5016": {
          "model_module": "@jupyter-widgets/controls",
          "model_name": "HBoxModel",
          "model_module_version": "1.5.0",
          "state": {
            "_dom_classes": [],
            "_model_module": "@jupyter-widgets/controls",
            "_model_module_version": "1.5.0",
            "_model_name": "HBoxModel",
            "_view_count": null,
            "_view_module": "@jupyter-widgets/controls",
            "_view_module_version": "1.5.0",
            "_view_name": "HBoxView",
            "box_style": "",
            "children": [
              "IPY_MODEL_3d9e5a52af724b3e977b8804a0366b70",
              "IPY_MODEL_f995816ced704547a4a6a2ccb369af79",
              "IPY_MODEL_292d14f11ca64c9d983e8078526516e3"
            ],
            "layout": "IPY_MODEL_80f563917c8d4895a57f489cfce2ca31"
          }
        },
        "3d9e5a52af724b3e977b8804a0366b70": {
          "model_module": "@jupyter-widgets/controls",
          "model_name": "HTMLModel",
          "model_module_version": "1.5.0",
          "state": {
            "_dom_classes": [],
            "_model_module": "@jupyter-widgets/controls",
            "_model_module_version": "1.5.0",
            "_model_name": "HTMLModel",
            "_view_count": null,
            "_view_module": "@jupyter-widgets/controls",
            "_view_module_version": "1.5.0",
            "_view_name": "HTMLView",
            "description": "",
            "description_tooltip": null,
            "layout": "IPY_MODEL_36d42845734044da9f26205f40831036",
            "placeholder": "​",
            "style": "IPY_MODEL_830f579d1e7f4fbcbc34ba3c46a11890",
            "value": "Batches: 100%"
          }
        },
        "f995816ced704547a4a6a2ccb369af79": {
          "model_module": "@jupyter-widgets/controls",
          "model_name": "FloatProgressModel",
          "model_module_version": "1.5.0",
          "state": {
            "_dom_classes": [],
            "_model_module": "@jupyter-widgets/controls",
            "_model_module_version": "1.5.0",
            "_model_name": "FloatProgressModel",
            "_view_count": null,
            "_view_module": "@jupyter-widgets/controls",
            "_view_module_version": "1.5.0",
            "_view_name": "ProgressView",
            "bar_style": "success",
            "description": "",
            "description_tooltip": null,
            "layout": "IPY_MODEL_cf195ad7e95747569668a8bfd2e5dd57",
            "max": 10,
            "min": 0,
            "orientation": "horizontal",
            "style": "IPY_MODEL_b0501a112e364139a890d180d7296784",
            "value": 10
          }
        },
        "292d14f11ca64c9d983e8078526516e3": {
          "model_module": "@jupyter-widgets/controls",
          "model_name": "HTMLModel",
          "model_module_version": "1.5.0",
          "state": {
            "_dom_classes": [],
            "_model_module": "@jupyter-widgets/controls",
            "_model_module_version": "1.5.0",
            "_model_name": "HTMLModel",
            "_view_count": null,
            "_view_module": "@jupyter-widgets/controls",
            "_view_module_version": "1.5.0",
            "_view_name": "HTMLView",
            "description": "",
            "description_tooltip": null,
            "layout": "IPY_MODEL_fd8295cd6d284c34ba9cf32c49bb6a45",
            "placeholder": "​",
            "style": "IPY_MODEL_a5189b3023e34e6188e937ec5f8a3751",
            "value": " 10/10 [00:34&lt;00:00,  3.39s/it]"
          }
        },
        "80f563917c8d4895a57f489cfce2ca31": {
          "model_module": "@jupyter-widgets/base",
          "model_name": "LayoutModel",
          "model_module_version": "1.2.0",
          "state": {
            "_model_module": "@jupyter-widgets/base",
            "_model_module_version": "1.2.0",
            "_model_name": "LayoutModel",
            "_view_count": null,
            "_view_module": "@jupyter-widgets/base",
            "_view_module_version": "1.2.0",
            "_view_name": "LayoutView",
            "align_content": null,
            "align_items": null,
            "align_self": null,
            "border": null,
            "bottom": null,
            "display": null,
            "flex": null,
            "flex_flow": null,
            "grid_area": null,
            "grid_auto_columns": null,
            "grid_auto_flow": null,
            "grid_auto_rows": null,
            "grid_column": null,
            "grid_gap": null,
            "grid_row": null,
            "grid_template_areas": null,
            "grid_template_columns": null,
            "grid_template_rows": null,
            "height": null,
            "justify_content": null,
            "justify_items": null,
            "left": null,
            "margin": null,
            "max_height": null,
            "max_width": null,
            "min_height": null,
            "min_width": null,
            "object_fit": null,
            "object_position": null,
            "order": null,
            "overflow": null,
            "overflow_x": null,
            "overflow_y": null,
            "padding": null,
            "right": null,
            "top": null,
            "visibility": null,
            "width": null
          }
        },
        "36d42845734044da9f26205f40831036": {
          "model_module": "@jupyter-widgets/base",
          "model_name": "LayoutModel",
          "model_module_version": "1.2.0",
          "state": {
            "_model_module": "@jupyter-widgets/base",
            "_model_module_version": "1.2.0",
            "_model_name": "LayoutModel",
            "_view_count": null,
            "_view_module": "@jupyter-widgets/base",
            "_view_module_version": "1.2.0",
            "_view_name": "LayoutView",
            "align_content": null,
            "align_items": null,
            "align_self": null,
            "border": null,
            "bottom": null,
            "display": null,
            "flex": null,
            "flex_flow": null,
            "grid_area": null,
            "grid_auto_columns": null,
            "grid_auto_flow": null,
            "grid_auto_rows": null,
            "grid_column": null,
            "grid_gap": null,
            "grid_row": null,
            "grid_template_areas": null,
            "grid_template_columns": null,
            "grid_template_rows": null,
            "height": null,
            "justify_content": null,
            "justify_items": null,
            "left": null,
            "margin": null,
            "max_height": null,
            "max_width": null,
            "min_height": null,
            "min_width": null,
            "object_fit": null,
            "object_position": null,
            "order": null,
            "overflow": null,
            "overflow_x": null,
            "overflow_y": null,
            "padding": null,
            "right": null,
            "top": null,
            "visibility": null,
            "width": null
          }
        },
        "830f579d1e7f4fbcbc34ba3c46a11890": {
          "model_module": "@jupyter-widgets/controls",
          "model_name": "DescriptionStyleModel",
          "model_module_version": "1.5.0",
          "state": {
            "_model_module": "@jupyter-widgets/controls",
            "_model_module_version": "1.5.0",
            "_model_name": "DescriptionStyleModel",
            "_view_count": null,
            "_view_module": "@jupyter-widgets/base",
            "_view_module_version": "1.2.0",
            "_view_name": "StyleView",
            "description_width": ""
          }
        },
        "cf195ad7e95747569668a8bfd2e5dd57": {
          "model_module": "@jupyter-widgets/base",
          "model_name": "LayoutModel",
          "model_module_version": "1.2.0",
          "state": {
            "_model_module": "@jupyter-widgets/base",
            "_model_module_version": "1.2.0",
            "_model_name": "LayoutModel",
            "_view_count": null,
            "_view_module": "@jupyter-widgets/base",
            "_view_module_version": "1.2.0",
            "_view_name": "LayoutView",
            "align_content": null,
            "align_items": null,
            "align_self": null,
            "border": null,
            "bottom": null,
            "display": null,
            "flex": null,
            "flex_flow": null,
            "grid_area": null,
            "grid_auto_columns": null,
            "grid_auto_flow": null,
            "grid_auto_rows": null,
            "grid_column": null,
            "grid_gap": null,
            "grid_row": null,
            "grid_template_areas": null,
            "grid_template_columns": null,
            "grid_template_rows": null,
            "height": null,
            "justify_content": null,
            "justify_items": null,
            "left": null,
            "margin": null,
            "max_height": null,
            "max_width": null,
            "min_height": null,
            "min_width": null,
            "object_fit": null,
            "object_position": null,
            "order": null,
            "overflow": null,
            "overflow_x": null,
            "overflow_y": null,
            "padding": null,
            "right": null,
            "top": null,
            "visibility": null,
            "width": null
          }
        },
        "b0501a112e364139a890d180d7296784": {
          "model_module": "@jupyter-widgets/controls",
          "model_name": "ProgressStyleModel",
          "model_module_version": "1.5.0",
          "state": {
            "_model_module": "@jupyter-widgets/controls",
            "_model_module_version": "1.5.0",
            "_model_name": "ProgressStyleModel",
            "_view_count": null,
            "_view_module": "@jupyter-widgets/base",
            "_view_module_version": "1.2.0",
            "_view_name": "StyleView",
            "bar_color": null,
            "description_width": ""
          }
        },
        "fd8295cd6d284c34ba9cf32c49bb6a45": {
          "model_module": "@jupyter-widgets/base",
          "model_name": "LayoutModel",
          "model_module_version": "1.2.0",
          "state": {
            "_model_module": "@jupyter-widgets/base",
            "_model_module_version": "1.2.0",
            "_model_name": "LayoutModel",
            "_view_count": null,
            "_view_module": "@jupyter-widgets/base",
            "_view_module_version": "1.2.0",
            "_view_name": "LayoutView",
            "align_content": null,
            "align_items": null,
            "align_self": null,
            "border": null,
            "bottom": null,
            "display": null,
            "flex": null,
            "flex_flow": null,
            "grid_area": null,
            "grid_auto_columns": null,
            "grid_auto_flow": null,
            "grid_auto_rows": null,
            "grid_column": null,
            "grid_gap": null,
            "grid_row": null,
            "grid_template_areas": null,
            "grid_template_columns": null,
            "grid_template_rows": null,
            "height": null,
            "justify_content": null,
            "justify_items": null,
            "left": null,
            "margin": null,
            "max_height": null,
            "max_width": null,
            "min_height": null,
            "min_width": null,
            "object_fit": null,
            "object_position": null,
            "order": null,
            "overflow": null,
            "overflow_x": null,
            "overflow_y": null,
            "padding": null,
            "right": null,
            "top": null,
            "visibility": null,
            "width": null
          }
        },
        "a5189b3023e34e6188e937ec5f8a3751": {
          "model_module": "@jupyter-widgets/controls",
          "model_name": "DescriptionStyleModel",
          "model_module_version": "1.5.0",
          "state": {
            "_model_module": "@jupyter-widgets/controls",
            "_model_module_version": "1.5.0",
            "_model_name": "DescriptionStyleModel",
            "_view_count": null,
            "_view_module": "@jupyter-widgets/base",
            "_view_module_version": "1.2.0",
            "_view_name": "StyleView",
            "description_width": ""
          }
        },
        "e571a40d5f514348bf1d06653c0f3cb1": {
          "model_module": "@jupyter-widgets/controls",
          "model_name": "HBoxModel",
          "model_module_version": "1.5.0",
          "state": {
            "_dom_classes": [],
            "_model_module": "@jupyter-widgets/controls",
            "_model_module_version": "1.5.0",
            "_model_name": "HBoxModel",
            "_view_count": null,
            "_view_module": "@jupyter-widgets/controls",
            "_view_module_version": "1.5.0",
            "_view_name": "HBoxView",
            "box_style": "",
            "children": [
              "IPY_MODEL_1dabdab211024799939bb001e23eeb0a",
              "IPY_MODEL_9f11d0ae7bd744f3bf4f29413b82cf9e",
              "IPY_MODEL_72473ad5419c486b961d34bd939b312b"
            ],
            "layout": "IPY_MODEL_52d08e5038ee45ea9a5a7183f2deb99e"
          }
        },
        "1dabdab211024799939bb001e23eeb0a": {
          "model_module": "@jupyter-widgets/controls",
          "model_name": "HTMLModel",
          "model_module_version": "1.5.0",
          "state": {
            "_dom_classes": [],
            "_model_module": "@jupyter-widgets/controls",
            "_model_module_version": "1.5.0",
            "_model_name": "HTMLModel",
            "_view_count": null,
            "_view_module": "@jupyter-widgets/controls",
            "_view_module_version": "1.5.0",
            "_view_name": "HTMLView",
            "description": "",
            "description_tooltip": null,
            "layout": "IPY_MODEL_bb1ffa6670b74ce684e089889a283820",
            "placeholder": "​",
            "style": "IPY_MODEL_e03fd004d7a146f49101519971d42771",
            "value": "Batches: 100%"
          }
        },
        "9f11d0ae7bd744f3bf4f29413b82cf9e": {
          "model_module": "@jupyter-widgets/controls",
          "model_name": "FloatProgressModel",
          "model_module_version": "1.5.0",
          "state": {
            "_dom_classes": [],
            "_model_module": "@jupyter-widgets/controls",
            "_model_module_version": "1.5.0",
            "_model_name": "FloatProgressModel",
            "_view_count": null,
            "_view_module": "@jupyter-widgets/controls",
            "_view_module_version": "1.5.0",
            "_view_name": "ProgressView",
            "bar_style": "success",
            "description": "",
            "description_tooltip": null,
            "layout": "IPY_MODEL_90185cfc478c4559af572fed905109cc",
            "max": 20,
            "min": 0,
            "orientation": "horizontal",
            "style": "IPY_MODEL_964e37e342a448539029e6b717c8a355",
            "value": 20
          }
        },
        "72473ad5419c486b961d34bd939b312b": {
          "model_module": "@jupyter-widgets/controls",
          "model_name": "HTMLModel",
          "model_module_version": "1.5.0",
          "state": {
            "_dom_classes": [],
            "_model_module": "@jupyter-widgets/controls",
            "_model_module_version": "1.5.0",
            "_model_name": "HTMLModel",
            "_view_count": null,
            "_view_module": "@jupyter-widgets/controls",
            "_view_module_version": "1.5.0",
            "_view_name": "HTMLView",
            "description": "",
            "description_tooltip": null,
            "layout": "IPY_MODEL_b52486fa4e804da79d1cfa5f943853be",
            "placeholder": "​",
            "style": "IPY_MODEL_4fcd5e28418f48ffab802c68db954179",
            "value": " 20/20 [01:00&lt;00:00,  2.90s/it]"
          }
        },
        "52d08e5038ee45ea9a5a7183f2deb99e": {
          "model_module": "@jupyter-widgets/base",
          "model_name": "LayoutModel",
          "model_module_version": "1.2.0",
          "state": {
            "_model_module": "@jupyter-widgets/base",
            "_model_module_version": "1.2.0",
            "_model_name": "LayoutModel",
            "_view_count": null,
            "_view_module": "@jupyter-widgets/base",
            "_view_module_version": "1.2.0",
            "_view_name": "LayoutView",
            "align_content": null,
            "align_items": null,
            "align_self": null,
            "border": null,
            "bottom": null,
            "display": null,
            "flex": null,
            "flex_flow": null,
            "grid_area": null,
            "grid_auto_columns": null,
            "grid_auto_flow": null,
            "grid_auto_rows": null,
            "grid_column": null,
            "grid_gap": null,
            "grid_row": null,
            "grid_template_areas": null,
            "grid_template_columns": null,
            "grid_template_rows": null,
            "height": null,
            "justify_content": null,
            "justify_items": null,
            "left": null,
            "margin": null,
            "max_height": null,
            "max_width": null,
            "min_height": null,
            "min_width": null,
            "object_fit": null,
            "object_position": null,
            "order": null,
            "overflow": null,
            "overflow_x": null,
            "overflow_y": null,
            "padding": null,
            "right": null,
            "top": null,
            "visibility": null,
            "width": null
          }
        },
        "bb1ffa6670b74ce684e089889a283820": {
          "model_module": "@jupyter-widgets/base",
          "model_name": "LayoutModel",
          "model_module_version": "1.2.0",
          "state": {
            "_model_module": "@jupyter-widgets/base",
            "_model_module_version": "1.2.0",
            "_model_name": "LayoutModel",
            "_view_count": null,
            "_view_module": "@jupyter-widgets/base",
            "_view_module_version": "1.2.0",
            "_view_name": "LayoutView",
            "align_content": null,
            "align_items": null,
            "align_self": null,
            "border": null,
            "bottom": null,
            "display": null,
            "flex": null,
            "flex_flow": null,
            "grid_area": null,
            "grid_auto_columns": null,
            "grid_auto_flow": null,
            "grid_auto_rows": null,
            "grid_column": null,
            "grid_gap": null,
            "grid_row": null,
            "grid_template_areas": null,
            "grid_template_columns": null,
            "grid_template_rows": null,
            "height": null,
            "justify_content": null,
            "justify_items": null,
            "left": null,
            "margin": null,
            "max_height": null,
            "max_width": null,
            "min_height": null,
            "min_width": null,
            "object_fit": null,
            "object_position": null,
            "order": null,
            "overflow": null,
            "overflow_x": null,
            "overflow_y": null,
            "padding": null,
            "right": null,
            "top": null,
            "visibility": null,
            "width": null
          }
        },
        "e03fd004d7a146f49101519971d42771": {
          "model_module": "@jupyter-widgets/controls",
          "model_name": "DescriptionStyleModel",
          "model_module_version": "1.5.0",
          "state": {
            "_model_module": "@jupyter-widgets/controls",
            "_model_module_version": "1.5.0",
            "_model_name": "DescriptionStyleModel",
            "_view_count": null,
            "_view_module": "@jupyter-widgets/base",
            "_view_module_version": "1.2.0",
            "_view_name": "StyleView",
            "description_width": ""
          }
        },
        "90185cfc478c4559af572fed905109cc": {
          "model_module": "@jupyter-widgets/base",
          "model_name": "LayoutModel",
          "model_module_version": "1.2.0",
          "state": {
            "_model_module": "@jupyter-widgets/base",
            "_model_module_version": "1.2.0",
            "_model_name": "LayoutModel",
            "_view_count": null,
            "_view_module": "@jupyter-widgets/base",
            "_view_module_version": "1.2.0",
            "_view_name": "LayoutView",
            "align_content": null,
            "align_items": null,
            "align_self": null,
            "border": null,
            "bottom": null,
            "display": null,
            "flex": null,
            "flex_flow": null,
            "grid_area": null,
            "grid_auto_columns": null,
            "grid_auto_flow": null,
            "grid_auto_rows": null,
            "grid_column": null,
            "grid_gap": null,
            "grid_row": null,
            "grid_template_areas": null,
            "grid_template_columns": null,
            "grid_template_rows": null,
            "height": null,
            "justify_content": null,
            "justify_items": null,
            "left": null,
            "margin": null,
            "max_height": null,
            "max_width": null,
            "min_height": null,
            "min_width": null,
            "object_fit": null,
            "object_position": null,
            "order": null,
            "overflow": null,
            "overflow_x": null,
            "overflow_y": null,
            "padding": null,
            "right": null,
            "top": null,
            "visibility": null,
            "width": null
          }
        },
        "964e37e342a448539029e6b717c8a355": {
          "model_module": "@jupyter-widgets/controls",
          "model_name": "ProgressStyleModel",
          "model_module_version": "1.5.0",
          "state": {
            "_model_module": "@jupyter-widgets/controls",
            "_model_module_version": "1.5.0",
            "_model_name": "ProgressStyleModel",
            "_view_count": null,
            "_view_module": "@jupyter-widgets/base",
            "_view_module_version": "1.2.0",
            "_view_name": "StyleView",
            "bar_color": null,
            "description_width": ""
          }
        },
        "b52486fa4e804da79d1cfa5f943853be": {
          "model_module": "@jupyter-widgets/base",
          "model_name": "LayoutModel",
          "model_module_version": "1.2.0",
          "state": {
            "_model_module": "@jupyter-widgets/base",
            "_model_module_version": "1.2.0",
            "_model_name": "LayoutModel",
            "_view_count": null,
            "_view_module": "@jupyter-widgets/base",
            "_view_module_version": "1.2.0",
            "_view_name": "LayoutView",
            "align_content": null,
            "align_items": null,
            "align_self": null,
            "border": null,
            "bottom": null,
            "display": null,
            "flex": null,
            "flex_flow": null,
            "grid_area": null,
            "grid_auto_columns": null,
            "grid_auto_flow": null,
            "grid_auto_rows": null,
            "grid_column": null,
            "grid_gap": null,
            "grid_row": null,
            "grid_template_areas": null,
            "grid_template_columns": null,
            "grid_template_rows": null,
            "height": null,
            "justify_content": null,
            "justify_items": null,
            "left": null,
            "margin": null,
            "max_height": null,
            "max_width": null,
            "min_height": null,
            "min_width": null,
            "object_fit": null,
            "object_position": null,
            "order": null,
            "overflow": null,
            "overflow_x": null,
            "overflow_y": null,
            "padding": null,
            "right": null,
            "top": null,
            "visibility": null,
            "width": null
          }
        },
        "4fcd5e28418f48ffab802c68db954179": {
          "model_module": "@jupyter-widgets/controls",
          "model_name": "DescriptionStyleModel",
          "model_module_version": "1.5.0",
          "state": {
            "_model_module": "@jupyter-widgets/controls",
            "_model_module_version": "1.5.0",
            "_model_name": "DescriptionStyleModel",
            "_view_count": null,
            "_view_module": "@jupyter-widgets/base",
            "_view_module_version": "1.2.0",
            "_view_name": "StyleView",
            "description_width": ""
          }
        }
      }
    }
  },
  "cells": [
    {
      "cell_type": "markdown",
      "source": [
        "##install necessary libraries\n",
        "\n",
        "When using ir_explain these libraries are to be installed from the requirements.txt file"
      ],
      "metadata": {
        "id": "tSmrGIg9hVib"
      }
    },
    {
      "cell_type": "code",
      "execution_count": null,
      "metadata": {
        "collapsed": true,
        "id": "OlmCggpeg4Gt"
      },
      "outputs": [],
      "source": [
        "!pip install pyserini==0.25.0\n",
        "!pip install faiss-cpu\n",
        "!pip install lime\n",
        "!pip install beir\n",
        "!pip install --upgrade ir_datasets\n"
      ]
    },
    {
      "cell_type": "markdown",
      "source": [
        "Importing the required scripts in Google Colab"
      ],
      "metadata": {
        "id": "pntxn7a2VOXM"
      }
    },
    {
      "cell_type": "code",
      "source": [
        "import sys\n",
        "sys.path.append('/content/')"
      ],
      "metadata": {
        "id": "YNqhd4wpMEIu"
      },
      "execution_count": 2,
      "outputs": []
    },
    {
      "cell_type": "code",
      "source": [
        "from PerturbDocument import PerturbDocument\n",
        "from Pointwise import Pointwise\n",
        "from EXS import ExplainableSearch\n",
        "from Lirme import Lirme\n",
        "\n",
        "from utilities import *"
      ],
      "metadata": {
        "id": "MnmCLITMhYXx"
      },
      "execution_count": 5,
      "outputs": []
    },
    {
      "cell_type": "code",
      "source": [
        "import numpy as np\n",
        "\n",
        "import lime\n",
        "from lime import lime_ranker"
      ],
      "metadata": {
        "id": "Ok8doDUeoLoj"
      },
      "execution_count": 6,
      "outputs": []
    },
    {
      "cell_type": "markdown",
      "source": [
        "Initialize the index path if one exists.\n",
        "\n",
        "In this demo we are using pre-built indices."
      ],
      "metadata": {
        "id": "ozMXyFSONDq6"
      }
    },
    {
      "cell_type": "code",
      "source": [
        "index_path = '/path/to/index/'"
      ],
      "metadata": {
        "id": "n4xUMl8smkaX"
      },
      "execution_count": 7,
      "outputs": []
    },
    {
      "cell_type": "markdown",
      "source": [
        "##retrieve & rerank\n",
        "\n",
        "Modern Neural Information Retrieval involves a twostage\n",
        "pipeline. First, given the query 𝑄, a sparse retrieval model\n",
        "(such as BM25) is used as an initial ranker (𝑀1) to retrieve top 𝑘\n",
        "documents.\n",
        "In the second stage (𝑀2), dense retrieval techniques (neural models) are employed to re-rank the set of 𝑘 initially\n",
        "retrieved documents."
      ],
      "metadata": {
        "id": "sOrw7vzkoumR"
      }
    },
    {
      "cell_type": "markdown",
      "source": [
        "###sparse retrieval\n",
        "\n",
        "We use the **pyserini** module to perform sparse retrieval\n",
        "The pyserini searcher can be initialized by mentioned the path of the indexed corpus\n",
        "Alternately, pyserini provides a function *'from_prebuilt_index()'* to use already indexed corpuses.\n",
        "\n",
        "In general the searcher can be initialized by specifying the path of the index.\n",
        "\n",
        "Here we make use of the **\"msmarco-v1-passage-full\"** index"
      ],
      "metadata": {
        "id": "3QuMuSjDj8E8"
      }
    },
    {
      "cell_type": "code",
      "source": [
        "from pyserini.search.lucene import LuceneSearcher\n",
        "#searcher = LuceneSearcher(index_path)\n",
        "searcher = LuceneSearcher.from_prebuilt_index(\"msmarco-v1-passage-full\")\n",
        "\n",
        "query = 'what is the daily life of thai people'\n",
        "retrieved_dict = get_results_from_index(query, searcher, num_docs=10)\n",
        "\n",
        "doc_ids = retrieved_dict[\"doc_ids\"]\n",
        "docs = retrieved_dict[\"docs\"]"
      ],
      "metadata": {
        "id": "GZiMZ-aLnDJ-"
      },
      "execution_count": null,
      "outputs": []
    },
    {
      "cell_type": "markdown",
      "source": [
        "###Load a reranking model\n",
        "\n",
        "In the second stage of modern Neural IR, dense\n",
        "retrieval techniques are employed to re-rank the set of 𝑘 initially\n",
        "retrieved documents.\n",
        "\n",
        "We use the beir module to import a reranker.\n",
        "\n",
        "Here we use the cross-encoder/ms-marco-electra-base model to rerank the initial k retrieved documents"
      ],
      "metadata": {
        "id": "RI2HF8C0ojm5"
      }
    },
    {
      "cell_type": "code",
      "source": [
        "# Load a reranking model\n",
        "from beir.reranking.models import CrossEncoder\n",
        "model = 'cross-encoder/ms-marco-electra-base'\n",
        "reranker = CrossEncoder(model)"
      ],
      "metadata": {
        "id": "jyG4cOm-oh9F"
      },
      "execution_count": null,
      "outputs": []
    },
    {
      "cell_type": "code",
      "source": [
        "#Rerank using the Neural model\n",
        "rerank_scores = reranker.predict(list(zip([query]*len(doc_ids),docs)), batch_size=10)\n",
        "retrieved_dict[\"rerank_scores\"] = rerank_scores\n",
        "\n",
        "print(rerank_scores)"
      ],
      "metadata": {
        "colab": {
          "base_uri": "https://localhost:8080/",
          "height": 85,
          "referenced_widgets": [
            "336ea7ab7ed4451db4ab47f6e6d2aa15",
            "259ff4aefabf40dab766b61deec9d75c",
            "0956e8335c5b4f2fb1a9bac77d3292ca",
            "7479aee15bb645cb8b3a82ab0ffa02d2",
            "873b377d6ff64354b2c996d48ed880d0",
            "b0ec7717a2024503a17d38baf544f3e0",
            "3bfd0fed307747b69ceb3204231e0395",
            "66c5b24230cc461990984dd5afb2991a",
            "e001e0a1192c4faa9e71a10df4d43964",
            "e59483b18800422080202e30c59dfab3",
            "e32524e07a7640ce94f843f9f22da17c"
          ]
        },
        "id": "tt_pDGzIlYUb",
        "outputId": "5db80d11-95a1-4c10-a50a-3dc587a19ce5"
      },
      "execution_count": 10,
      "outputs": [
        {
          "output_type": "display_data",
          "data": {
            "text/plain": [
              "Batches:   0%|          | 0/1 [00:00<?, ?it/s]"
            ],
            "application/vnd.jupyter.widget-view+json": {
              "version_major": 2,
              "version_minor": 0,
              "model_id": "336ea7ab7ed4451db4ab47f6e6d2aa15"
            }
          },
          "metadata": {}
        },
        {
          "output_type": "stream",
          "name": "stdout",
          "text": [
            "[9.7950649e-01 1.9957281e-05 2.2687234e-05 9.8405325e-01 9.8600733e-01\n",
            " 3.4078919e-05 4.0367933e-04 5.9412556e-05 3.2782515e-05 5.1955093e-04]\n"
          ]
        }
      ]
    },
    {
      "cell_type": "markdown",
      "source": [
        "##EXS explanation\n",
        "\n",
        "This section generates post-hoc explanation based on the EXS method\n",
        "\n",
        "Given a list of reranked documents, we specify the rank of the document which we want to explain.\n",
        "Taking the scores of the reranked documents, the EXS method generates an explanation for the score given by the reranker to this particular document."
      ],
      "metadata": {
        "id": "0kvZiMygnJ0q"
      }
    },
    {
      "cell_type": "code",
      "source": [
        "explainer = ExplainableSearch(reranker, 'svm', 100)\n",
        "\n",
        "rank = 2\n",
        "docids_reranked = retrieved_dict[\"doc_ids\"][np.argsort(retrieved_dict[\"rerank_scores\"])[::-1]]  # descending order.\n",
        "doc_id_at_r = docids_reranked[rank-1]\n",
        "doc_at_r = retrieved_dict[\"docs\"][np.argsort(retrieved_dict[\"rerank_scores\"])][-rank]\n",
        "\n",
        "print(\"docids_reranked:\",docids_reranked)\n",
        "print(\"doc_id at r:\",doc_id_at_r)\n",
        "print(\"doc at r:\",doc_at_r)"
      ],
      "metadata": {
        "colab": {
          "base_uri": "https://localhost:8080/"
        },
        "collapsed": true,
        "id": "aY2ms1HGmtzu",
        "outputId": "abfa9493-77fa-4649-8cb9-ee95f9362f11"
      },
      "execution_count": 11,
      "outputs": [
        {
          "output_type": "stream",
          "name": "stdout",
          "text": [
            "docids_reranked: ['8139255' '8139258' '8139256' '6164791' '90432' '2735215' '2096427'\n",
            " '6016292' '6740558' '2096429']\n",
            "doc_id at r: 8139258\n",
            "doc at r: {   \"id\" : \"8139258\",   \"contents\" : \"T he following concepts are part of Thai everyday life: à¹à¸à¹à¸¢à¹à¸ or JAI YEN is more a way of life, it is to keep your temper whatever the situation. T hai people are educated in the family and in school to keep frustration inside. Instead of showing their anger toward a problem or situation, Thai people show JAI YEN, i.e. calm or patience.\" }\n"
          ]
        }
      ]
    },
    {
      "cell_type": "markdown",
      "source": [
        "###Generate the explantion using the EXS class and visualize the generated term-vector\n",
        "\n",
        "The red terms in the visualization are terms which have negative influence on the score, while the green terms positively affect the score of the document, as per the explantion generated.\n",
        "\n",
        "The width of the bars correspond to the magnitude of each term's importance(negative or positive as the case may be)"
      ],
      "metadata": {
        "id": "fLFcgq4KN6Xm"
      }
    },
    {
      "cell_type": "code",
      "source": [
        "results = explainer.explain(query, retrieved_dict[\"doc_ids\"], retrieved_dict[\"rerank_scores\"], rank, doc_at_r, 'topk-bin')\n",
        "explainer.visualize(list(zip(results[query][0], results[query][1][0])), saveto = \"explanation_exs.pdf\", show_top=5)\n"
      ],
      "metadata": {
        "colab": {
          "base_uri": "https://localhost:8080/",
          "height": 985,
          "referenced_widgets": [
            "6745f14155f84e60ac7b8f10d9fb5016",
            "3d9e5a52af724b3e977b8804a0366b70",
            "f995816ced704547a4a6a2ccb369af79",
            "292d14f11ca64c9d983e8078526516e3",
            "80f563917c8d4895a57f489cfce2ca31",
            "36d42845734044da9f26205f40831036",
            "830f579d1e7f4fbcbc34ba3c46a11890",
            "cf195ad7e95747569668a8bfd2e5dd57",
            "b0501a112e364139a890d180d7296784",
            "fd8295cd6d284c34ba9cf32c49bb6a45",
            "a5189b3023e34e6188e937ec5f8a3751"
          ]
        },
        "id": "o9XAz16CZCnQ",
        "outputId": "8856c5e9-2d26-4f0d-924a-69df26c1b238"
      },
      "execution_count": 34,
      "outputs": [
        {
          "output_type": "stream",
          "name": "stdout",
          "text": [
            "Inside def explain, scores_topk:\n",
            " [0.98600733, 0.98405325]\n"
          ]
        },
        {
          "output_type": "stream",
          "name": "stderr",
          "text": [
            "99it [00:00, 2420.55it/s]\n"
          ]
        },
        {
          "output_type": "display_data",
          "data": {
            "text/plain": [
              "Batches:   0%|          | 0/10 [00:00<?, ?it/s]"
            ],
            "application/vnd.jupyter.widget-view+json": {
              "version_major": 2,
              "version_minor": 0,
              "model_id": "6745f14155f84e60ac7b8f10d9fb5016"
            }
          },
          "metadata": {}
        },
        {
          "output_type": "stream",
          "name": "stdout",
          "text": [
            "lables_perturb unique:  [0 1]\n",
            "Inside def explain_single, self.exs_model:  svm\n"
          ]
        },
        {
          "output_type": "display_data",
          "data": {
            "text/plain": [
              "<Figure size 800x1000 with 1 Axes>"
            ],
            "image/png": "[encoded data removed]"
          },
          "metadata": {}
        }
      ]
    },
    {
      "cell_type": "markdown",
      "source": [
        "###remove stopwords\n",
        "Some of the explanation terms are stopwords, which in reality should not contribute to the explanation of the document.\n",
        "We can remove these words from the explanation to focus only on the important words in the document"
      ],
      "metadata": {
        "id": "YGRwM49cwZc0"
      }
    },
    {
      "cell_type": "code",
      "source": [
        "results_no_stopword = explainer.remove_stopwords_from_explanation(results, stopword_file_path = \"/content/stop.txt\")"
      ],
      "metadata": {
        "id": "1bIPzMx-wYiY"
      },
      "execution_count": 13,
      "outputs": []
    },
    {
      "cell_type": "code",
      "source": [
        "explainer.visualize(list(zip(results_no_stopword[query][0], results_no_stopword[query][1])), saveto = \"explanation_no_stopword.pdf\", show_top=5)"
      ],
      "metadata": {
        "colab": {
          "base_uri": "https://localhost:8080/",
          "height": 844
        },
        "id": "gBNsEM7LwqEL",
        "outputId": "bced1859-06a7-473a-9516-b97c263aa133"
      },
      "execution_count": 14,
      "outputs": [
        {
          "output_type": "display_data",
          "data": {
            "text/plain": [
              "<Figure size 800x1000 with 1 Axes>"
            ],
            "image/png": "[encoded data removed]"
          },
          "metadata": {}
        }
      ]
    },
    {
      "cell_type": "markdown",
      "source": [
        "##LIRME\n",
        "\n",
        "This section generates post-hoc explanation based on the LIRME methodology\n",
        "\n",
        "Given a query, document and the score given to this document by the neural reranker, we want to explain why such a score was given by the reranker."
      ],
      "metadata": {
        "id": "IqmzkiiWGni8"
      }
    },
    {
      "cell_type": "code",
      "source": [
        "from pyserini.index.lucene import IndexReader"
      ],
      "metadata": {
        "id": "0j8CKDv3Hmht"
      },
      "execution_count": 15,
      "outputs": []
    },
    {
      "cell_type": "code",
      "source": [
        "query = 'what is the daily life of thai people'\n",
        "\n",
        "doc_id = '8139255'\n",
        "doc_score = 0.98600733"
      ],
      "metadata": {
        "id": "psn8g6guGrWY"
      },
      "execution_count": 16,
      "outputs": []
    },
    {
      "cell_type": "code",
      "source": [
        "params = {\n",
        "    \"sampling_method\" : \"masking\",\n",
        "    \"top_terms\" : 20,\n",
        "    \"kernel_range\" : [5,10]\n",
        "\n",
        "}"
      ],
      "metadata": {
        "id": "UwBQlJUzQroY"
      },
      "execution_count": 17,
      "outputs": []
    },
    {
      "cell_type": "markdown",
      "source": [
        "Initialize the lirme explainer using the index_path\n",
        "\n",
        "**Note**: For the demo we are using hardcoded msmarco-passage-full index"
      ],
      "metadata": {
        "id": "A5SxJuwNNeCJ"
      }
    },
    {
      "cell_type": "code",
      "source": [
        "lirme = Lirme(index_path)"
      ],
      "metadata": {
        "colab": {
          "base_uri": "https://localhost:8080/"
        },
        "id": "vZGIhajOG3ye",
        "outputId": "51ee8972-c690-46e1-ee65-538dceb8ddab"
      },
      "execution_count": 18,
      "outputs": [
        {
          "output_type": "stream",
          "name": "stdout",
          "text": [
            "index_reader :  <pyserini.index.lucene._base.IndexReader object at 0x7df55631b010>\n"
          ]
        }
      ]
    },
    {
      "cell_type": "markdown",
      "source": [
        "###generate explantion using Lirme class"
      ],
      "metadata": {
        "id": "rEHnsdXBNuST"
      }
    },
    {
      "cell_type": "code",
      "source": [
        "explanation_vectors, ranked_lists = lirme.explain(query, doc_id, doc_score, reranker, params)"
      ],
      "metadata": {
        "colab": {
          "base_uri": "https://localhost:8080/",
          "height": 215,
          "referenced_widgets": [
            "e571a40d5f514348bf1d06653c0f3cb1",
            "1dabdab211024799939bb001e23eeb0a",
            "9f11d0ae7bd744f3bf4f29413b82cf9e",
            "72473ad5419c486b961d34bd939b312b",
            "52d08e5038ee45ea9a5a7183f2deb99e",
            "bb1ffa6670b74ce684e089889a283820",
            "e03fd004d7a146f49101519971d42771",
            "90185cfc478c4559af572fed905109cc",
            "964e37e342a448539029e6b717c8a355",
            "b52486fa4e804da79d1cfa5f943853be",
            "4fcd5e28418f48ffab802c68db954179"
          ]
        },
        "id": "kzK6wXxG-OdC",
        "outputId": "86e4dea0-e502-424d-f47e-b16dc984fbb1"
      },
      "execution_count": 19,
      "outputs": [
        {
          "output_type": "stream",
          "name": "stdout",
          "text": [
            "len(samples_generated) :  200\n",
            "example sample:\n",
            " [\"{ `` id '' : `` 8139255 '' , `` contents '' : `` An important thing in everyday life is SANUK . Thai people love to have fun together . SANUK can represent many things : eat together , to be with friends and chat , to go out with friends . For Thai people SANUK happens with several persons . '' }\"]\n"
          ]
        },
        {
          "output_type": "display_data",
          "data": {
            "text/plain": [
              "Batches:   0%|          | 0/20 [00:00<?, ?it/s]"
            ],
            "application/vnd.jupyter.widget-view+json": {
              "version_major": 2,
              "version_minor": 0,
              "model_id": "e571a40d5f514348bf1d06653c0f3cb1"
            }
          },
          "metadata": {}
        },
        {
          "output_type": "stream",
          "name": "stdout",
          "text": [
            "Document score 0.98600733\n"
          ]
        },
        {
          "output_type": "stream",
          "name": "stderr",
          "text": [
            "/usr/local/lib/python3.10/dist-packages/numpy/core/fromnumeric.py:3504: RuntimeWarning: Mean of empty slice.\n",
            "  return _methods._mean(a, axis=axis, dtype=dtype,\n",
            "/usr/local/lib/python3.10/dist-packages/numpy/core/_methods.py:129: RuntimeWarning: invalid value encountered in scalar divide\n",
            "  ret = ret.dtype.type(ret / rcount)\n"
          ]
        }
      ]
    },
    {
      "cell_type": "markdown",
      "source": [
        "###Visualize the generated term-vector explanation"
      ],
      "metadata": {
        "id": "OlS-MsguNy1U"
      }
    },
    {
      "cell_type": "code",
      "source": [
        "lirme.visualize(explanation_vectors[0][\"term_vector\"], show_top = 5, show_pos_only=True)"
      ],
      "metadata": {
        "colab": {
          "base_uri": "https://localhost:8080/",
          "height": 862
        },
        "id": "r8wcbsqPZwh2",
        "outputId": "a0dd8777-0d81-4b03-944c-d8cd6af5e69a"
      },
      "execution_count": 20,
      "outputs": [
        {
          "output_type": "display_data",
          "data": {
            "text/plain": [
              "<Figure size 800x1000 with 1 Axes>"
            ],
            "image/png": "[encoded data removed]"
          },
          "metadata": {}
        }
      ]
    },
    {
      "cell_type": "markdown",
      "source": [
        "###Evaluation:\n",
        "\n",
        "The framework also offers two methods to evaluate the explanations generated:\n",
        "\n",
        "**Consistency and Correctness:**\n",
        "\n",
        "**Consistency**: By varying the parameters for the functions (such as num_perturbed_samples) multiple explanations for the same query-doc pair can be generated. Consistency is a measure of how similar these explanations are\n",
        "\n",
        "**Correctness**:\n",
        "For benchmark datasets, given a query, we can retrive the documents marked relevant for this query.\n",
        "Using these relevant docs, we can create a term-vector based on the most frequent words in these docs. It is reasonable to assume these words are relevant to the given query.\n",
        "Correctness measures the similarity between the term-vector generated as the explanation and the term-vector obtained using the relevant documents."
      ],
      "metadata": {
        "id": "O9AwRicV5ors"
      }
    },
    {
      "cell_type": "markdown",
      "source": [
        "First find relevant documents for the query"
      ],
      "metadata": {
        "id": "o4lIMBVELHnx"
      }
    },
    {
      "cell_type": "code",
      "source": [
        "query_id='1112341'\n",
        "rel_docs_list = lirme.find_relevant_docs(query_id)\n",
        "\n",
        "print(rel_docs_list)"
      ],
      "metadata": {
        "colab": {
          "base_uri": "https://localhost:8080/"
        },
        "id": "F_IUXYPdN5nU",
        "outputId": "d75ddfbf-baad-4e3c-86e1-3558b298d296"
      },
      "execution_count": 23,
      "outputs": [
        {
          "output_type": "stream",
          "name": "stderr",
          "text": [
            "[INFO] Please confirm you agree to the MSMARCO data usage agreement found at <http://www.msmarco.org/dataset.aspx>\n",
            "[INFO] [starting] https://raw.githubusercontent.com/grill-lab/DL-Hard/main/dataset/dl_hard-passage.qrels\n",
            "[INFO] [finished] https://raw.githubusercontent.com/grill-lab/DL-Hard/main/dataset/dl_hard-passage.qrels: [00:00] [83.4kB] [31.3MB/s]\n"
          ]
        },
        {
          "output_type": "stream",
          "name": "stdout",
          "text": [
            "TrecQrel(query_id='1112341', doc_id='1369480', relevance=1, iteration='Q0')\n",
            "TrecQrel(query_id='1112341', doc_id='1373646', relevance=1, iteration='Q0')\n",
            "TrecQrel(query_id='1112341', doc_id='1373648', relevance=1, iteration='Q0')\n",
            "TrecQrel(query_id='1112341', doc_id='1707321', relevance=1, iteration='Q0')\n",
            "TrecQrel(query_id='1112341', doc_id='2173822', relevance=1, iteration='Q0')\n",
            "TrecQrel(query_id='1112341', doc_id='2468293', relevance=1, iteration='Q0')\n",
            "TrecQrel(query_id='1112341', doc_id='2468300', relevance=1, iteration='Q0')\n",
            "TrecQrel(query_id='1112341', doc_id='2596431', relevance=1, iteration='Q0')\n",
            "TrecQrel(query_id='1112341', doc_id='263958', relevance=1, iteration='Q0')\n",
            "TrecQrel(query_id='1112341', doc_id='2694630', relevance=1, iteration='Q0')\n",
            "['1369480', '1373646', '1373648', '1707321', '2173822', '2468293', '2468300', '2596431', '263958', '2694630']\n"
          ]
        }
      ]
    },
    {
      "cell_type": "markdown",
      "source": [
        "###Now compute the term-vector from the relevant docs"
      ],
      "metadata": {
        "id": "dDbWBLGQLOp9"
      }
    },
    {
      "cell_type": "code",
      "source": [
        "relevant_doc_vector = lirme.generate_ground_truth_terms(rel_docs_list)\n",
        "\n",
        "#print(relevant_doc_vector)"
      ],
      "metadata": {
        "collapsed": true,
        "id": "OxglpuT-Nop-"
      },
      "execution_count": null,
      "outputs": []
    },
    {
      "cell_type": "code",
      "source": [
        "relevant_doc_vector"
      ],
      "metadata": {
        "collapsed": true,
        "id": "RN1KtFvOg5U7"
      },
      "execution_count": null,
      "outputs": []
    },
    {
      "cell_type": "markdown",
      "source": [
        "Compute correctness as:\n",
        "1. the entropy between the two term-vectors. We call this pe.\n",
        "\n",
        "2. The cosine similarity between the two term-vectors. We call this cpe.\n"
      ],
      "metadata": {
        "id": "Mfnr7LbMLUP8"
      }
    },
    {
      "cell_type": "code",
      "source": [
        "lirme.correctness(doc_id, explanation_vectors[0][\"term_vector\"], relevant_doc_vector)"
      ],
      "metadata": {
        "colab": {
          "base_uri": "https://localhost:8080/"
        },
        "id": "h9WNaj2rhCoj",
        "outputId": "c9429cdc-da7a-4ac6-d39e-725b9dc69ffb"
      },
      "execution_count": 26,
      "outputs": [
        {
          "output_type": "stream",
          "name": "stdout",
          "text": [
            "pe, cpe :  5.32900425404719 [[0.2448235]]\n"
          ]
        },
        {
          "output_type": "execute_result",
          "data": {
            "text/plain": [
              "(5.32900425404719, array([[0.2448235]]))"
            ]
          },
          "metadata": {},
          "execution_count": 26
        }
      ]
    }
  ]
}