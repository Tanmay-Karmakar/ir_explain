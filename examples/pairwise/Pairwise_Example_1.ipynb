{
 "cells": [
  {
   "cell_type": "markdown",
   "metadata": {
    "id": "BHv41D0vO1z7"
   },
   "source": [
    "#Necessary Imports"
   ]
  },
  {
   "cell_type": "code",
   "execution_count": 1,
   "metadata": {
    "id": "cyIQjowROumZ"
   },
   "outputs": [],
   "source": [
    "from ast import Pass\n",
    "import math\n",
    "from itertools import combinations\n",
    "from math import isclose\n",
    "import pandas as pd"
   ]
  },
  {
   "cell_type": "code",
   "execution_count": 2,
   "metadata": {
    "colab": {
     "base_uri": "https://localhost:8080/"
    },
    "id": "bxaaMFN8O-z9",
    "outputId": "17050683-aa29-4efd-89f8-66c5e84ef4b2"
   },
   "outputs": [
    {
     "name": "stdout",
     "output_type": "stream",
     "text": [
      "Requirement already satisfied: nltk in /home/tanmay/miniconda3/envs/p3.9/lib/python3.9/site-packages (3.8.1)\n",
      "Requirement already satisfied: click in /home/tanmay/miniconda3/envs/p3.9/lib/python3.9/site-packages (from nltk) (8.1.7)\n",
      "Requirement already satisfied: joblib in /home/tanmay/miniconda3/envs/p3.9/lib/python3.9/site-packages (from nltk) (1.4.2)\n",
      "Requirement already satisfied: regex>=2021.8.3 in /home/tanmay/miniconda3/envs/p3.9/lib/python3.9/site-packages (from nltk) (2024.5.15)\n",
      "Requirement already satisfied: tqdm in /home/tanmay/miniconda3/envs/p3.9/lib/python3.9/site-packages (from nltk) (4.66.4)\n",
      "\n",
      "\u001b[1m[\u001b[0m\u001b[34;49mnotice\u001b[0m\u001b[1;39;49m]\u001b[0m\u001b[39;49m A new release of pip is available: \u001b[0m\u001b[31;49m24.1\u001b[0m\u001b[39;49m -> \u001b[0m\u001b[32;49m24.1.1\u001b[0m\n",
      "\u001b[1m[\u001b[0m\u001b[34;49mnotice\u001b[0m\u001b[1;39;49m]\u001b[0m\u001b[39;49m To update, run: \u001b[0m\u001b[32;49mpip install --upgrade pip\u001b[0m\n"
     ]
    }
   ],
   "source": [
    "!pip install nltk"
   ]
  },
  {
   "cell_type": "code",
   "execution_count": 3,
   "metadata": {
    "colab": {
     "base_uri": "https://localhost:8080/"
    },
    "id": "jPE5DOxuPFuC",
    "outputId": "2784b55d-4270-4788-8dae-b49355835d9b"
   },
   "outputs": [
    {
     "name": "stderr",
     "output_type": "stream",
     "text": [
      "[nltk_data] Downloading package stopwords to /home/tanmay/nltk_data...\n",
      "[nltk_data]   Package stopwords is already up-to-date!\n"
     ]
    }
   ],
   "source": [
    "import nltk\n",
    "nltk.download('stopwords')\n",
    "from nltk.corpus import wordnet\n",
    "from nltk.wsd import lesk\n",
    "from nltk.tokenize import word_tokenize\n",
    "from nltk.corpus import stopwords\n",
    "from nltk.stem import PorterStemmer\n",
    "from nltk import wordnet, pos_tag\n",
    "from nltk.corpus import wordnet as wn\n",
    "from sklearn.feature_extraction.text import CountVectorizer"
   ]
  },
  {
   "cell_type": "code",
   "execution_count": 4,
   "metadata": {
    "colab": {
     "base_uri": "https://localhost:8080/"
    },
    "id": "Ypxa56hOgL3F",
    "outputId": "7a3d7333-f0e2-45f8-cf24-a3c006659078"
   },
   "outputs": [
    {
     "name": "stderr",
     "output_type": "stream",
     "text": [
      "[nltk_data] Downloading package punkt to /home/tanmay/nltk_data...\n",
      "[nltk_data]   Package punkt is already up-to-date!\n"
     ]
    },
    {
     "data": {
      "text/plain": [
       "True"
      ]
     },
     "execution_count": 4,
     "metadata": {},
     "output_type": "execute_result"
    }
   ],
   "source": [
    "nltk.download('punkt')"
   ]
  },
  {
   "cell_type": "code",
   "execution_count": 5,
   "metadata": {
    "id": "QJZ8TfAskuR5"
   },
   "outputs": [
    {
     "name": "stderr",
     "output_type": "stream",
     "text": [
      "[nltk_data] Downloading package stopwords to /home/tanmay/nltk_data...\n",
      "[nltk_data]   Package stopwords is already up-to-date!\n",
      "[nltk_data] Downloading package punkt to /home/tanmay/nltk_data...\n",
      "[nltk_data]   Package punkt is already up-to-date!\n"
     ]
    }
   ],
   "source": [
    "from ir_explain.pairwise.axioms import pairwise"
   ]
  },
  {
   "cell_type": "code",
   "execution_count": 6,
   "metadata": {
    "id": "OIr-0GM6lcOK"
   },
   "outputs": [],
   "source": [
    "from ir_explain.pairwise.explain_more import explain_more"
   ]
  },
  {
   "cell_type": "markdown",
   "metadata": {
    "id": "wm4IAHqe13Ke"
   },
   "source": [
    "#Showcase some features of the ir_explain.pairwise framework:\n",
    "\n",
    "*   TREC-DL-2019\n",
    "\n",
    "\n",
    "\n",
    "\n",
    "\n"
   ]
  },
  {
   "cell_type": "code",
   "execution_count": 7,
   "metadata": {
    "colab": {
     "base_uri": "https://localhost:8080/"
    },
    "id": "SaOPRVsq1sxE",
    "outputId": "09114296-7491-43af-9662-e0c582381fc6"
   },
   "outputs": [
    {
     "name": "stdout",
     "output_type": "stream",
     "text": [
      "Requirement already satisfied: ir_datasets in /home/tanmay/miniconda3/envs/p3.9/lib/python3.9/site-packages (0.5.8)\n",
      "Requirement already satisfied: beautifulsoup4>=4.4.1 in /home/tanmay/miniconda3/envs/p3.9/lib/python3.9/site-packages (from ir_datasets) (4.12.3)\n",
      "Requirement already satisfied: inscriptis>=2.2.0 in /home/tanmay/miniconda3/envs/p3.9/lib/python3.9/site-packages (from ir_datasets) (2.5.0)\n",
      "Requirement already satisfied: lxml>=4.5.2 in /home/tanmay/miniconda3/envs/p3.9/lib/python3.9/site-packages (from ir_datasets) (5.2.2)\n",
      "Requirement already satisfied: numpy>=1.18.1 in /home/tanmay/miniconda3/envs/p3.9/lib/python3.9/site-packages (from ir_datasets) (1.26.4)\n",
      "Requirement already satisfied: pyyaml>=5.3.1 in /home/tanmay/miniconda3/envs/p3.9/lib/python3.9/site-packages (from ir_datasets) (6.0.1)\n",
      "Requirement already satisfied: requests>=2.22.0 in /home/tanmay/miniconda3/envs/p3.9/lib/python3.9/site-packages (from ir_datasets) (2.32.3)\n",
      "Requirement already satisfied: tqdm>=4.38.0 in /home/tanmay/miniconda3/envs/p3.9/lib/python3.9/site-packages (from ir_datasets) (4.66.4)\n",
      "Requirement already satisfied: trec-car-tools>=2.5.4 in /home/tanmay/miniconda3/envs/p3.9/lib/python3.9/site-packages (from ir_datasets) (2.6)\n",
      "Requirement already satisfied: lz4>=3.1.10 in /home/tanmay/miniconda3/envs/p3.9/lib/python3.9/site-packages (from ir_datasets) (4.3.3)\n",
      "Requirement already satisfied: warc3-wet>=0.2.3 in /home/tanmay/miniconda3/envs/p3.9/lib/python3.9/site-packages (from ir_datasets) (0.2.3)\n",
      "Requirement already satisfied: warc3-wet-clueweb09>=0.2.5 in /home/tanmay/miniconda3/envs/p3.9/lib/python3.9/site-packages (from ir_datasets) (0.2.5)\n",
      "Requirement already satisfied: zlib-state>=0.1.3 in /home/tanmay/miniconda3/envs/p3.9/lib/python3.9/site-packages (from ir_datasets) (0.1.6)\n",
      "Requirement already satisfied: ijson>=3.1.3 in /home/tanmay/miniconda3/envs/p3.9/lib/python3.9/site-packages (from ir_datasets) (3.3.0)\n",
      "Requirement already satisfied: unlzw3>=0.2.1 in /home/tanmay/miniconda3/envs/p3.9/lib/python3.9/site-packages (from ir_datasets) (0.2.2)\n",
      "Requirement already satisfied: soupsieve>1.2 in /home/tanmay/miniconda3/envs/p3.9/lib/python3.9/site-packages (from beautifulsoup4>=4.4.1->ir_datasets) (2.5)\n",
      "Requirement already satisfied: charset-normalizer<4,>=2 in /home/tanmay/miniconda3/envs/p3.9/lib/python3.9/site-packages (from requests>=2.22.0->ir_datasets) (3.3.2)\n",
      "Requirement already satisfied: idna<4,>=2.5 in /home/tanmay/miniconda3/envs/p3.9/lib/python3.9/site-packages (from requests>=2.22.0->ir_datasets) (3.7)\n",
      "Requirement already satisfied: urllib3<3,>=1.21.1 in /home/tanmay/miniconda3/envs/p3.9/lib/python3.9/site-packages (from requests>=2.22.0->ir_datasets) (2.2.2)\n",
      "Requirement already satisfied: certifi>=2017.4.17 in /home/tanmay/miniconda3/envs/p3.9/lib/python3.9/site-packages (from requests>=2.22.0->ir_datasets) (2024.6.2)\n",
      "Requirement already satisfied: cbor>=1.0.0 in /home/tanmay/miniconda3/envs/p3.9/lib/python3.9/site-packages (from trec-car-tools>=2.5.4->ir_datasets) (1.0.0)\n",
      "\n",
      "\u001b[1m[\u001b[0m\u001b[34;49mnotice\u001b[0m\u001b[1;39;49m]\u001b[0m\u001b[39;49m A new release of pip is available: \u001b[0m\u001b[31;49m24.1\u001b[0m\u001b[39;49m -> \u001b[0m\u001b[32;49m24.1.1\u001b[0m\n",
      "\u001b[1m[\u001b[0m\u001b[34;49mnotice\u001b[0m\u001b[1;39;49m]\u001b[0m\u001b[39;49m To update, run: \u001b[0m\u001b[32;49mpip install --upgrade pip\u001b[0m\n"
     ]
    }
   ],
   "source": [
    "!pip install ir_datasets"
   ]
  },
  {
   "cell_type": "markdown",
   "metadata": {
    "id": "tFcrverTINUo"
   },
   "source": [
    "#Get some query from the list to test and display the text of the query"
   ]
  },
  {
   "cell_type": "code",
   "execution_count": 8,
   "metadata": {
    "colab": {
     "base_uri": "https://localhost:8080/"
    },
    "id": "iE8HiH21cBZu",
    "outputId": "282e0597-f08f-4b76-d6c9-2ee291889730"
   },
   "outputs": [
    {
     "name": "stdout",
     "output_type": "stream",
     "text": [
      "Query ID: 183378\n",
      "Query Text: exons definition biology\n"
     ]
    }
   ],
   "source": [
    "import ir_datasets\n",
    "dataset = ir_datasets.load(\"msmarco-passage/trec-dl-2019\")\n",
    "query_id = \"183378\"\n",
    "\n",
    "query_text = None\n",
    "for query in dataset.queries_iter():\n",
    "    if query.query_id == query_id:\n",
    "        query_text = query.text\n",
    "        break\n",
    "if query_text is not None:\n",
    "    print(f\"Query ID: {query_id}\\nQuery Text: {query_text}\")\n",
    "else:\n",
    "    print(f\"No query found with ID: {query_id}\")\n"
   ]
  },
  {
   "cell_type": "markdown",
   "metadata": {
    "id": "z68fy6cmIlzI"
   },
   "source": [
    "#Get the top 25 ranked documents for the given query"
   ]
  },
  {
   "cell_type": "code",
   "execution_count": 9,
   "metadata": {
    "colab": {
     "base_uri": "https://localhost:8080/"
    },
    "id": "mDv9R4kCduj_",
    "outputId": "2602585d-b9c0-4f39-b958-4a431f0fac44"
   },
   "outputs": [
    {
     "name": "stdout",
     "output_type": "stream",
     "text": [
      "Rank: 1, Doc ID: 7135097\n",
      "Rank: 2, Doc ID: 8022481\n",
      "Rank: 3, Doc ID: 7173250\n",
      "Rank: 4, Doc ID: 8440424\n",
      "Rank: 5, Doc ID: 719550\n",
      "Rank: 6, Doc ID: 8458194\n",
      "Rank: 7, Doc ID: 5210173\n",
      "Rank: 8, Doc ID: 7221921\n",
      "Rank: 9, Doc ID: 8073356\n",
      "Rank: 10, Doc ID: 8079968\n",
      "Rank: 11, Doc ID: 7248228\n",
      "Rank: 12, Doc ID: 8507869\n",
      "Rank: 13, Doc ID: 5259281\n",
      "Rank: 14, Doc ID: 5260519\n",
      "Rank: 15, Doc ID: 7275691\n",
      "Rank: 16, Doc ID: 7278405\n",
      "Rank: 17, Doc ID: 8529539\n",
      "Rank: 18, Doc ID: 5286892\n",
      "Rank: 19, Doc ID: 8139400\n",
      "Rank: 20, Doc ID: 7315393\n",
      "Rank: 21, Doc ID: 8562900\n",
      "Rank: 22, Doc ID: 8563145\n",
      "Rank: 23, Doc ID: 8570255\n",
      "Rank: 24, Doc ID: 8577216\n",
      "Rank: 25, Doc ID: 5331361\n"
     ]
    }
   ],
   "source": [
    "target_query_id = \"183378\"\n",
    "\n",
    "target_query_docs = []\n",
    "\n",
    "for scoreddoc in dataset.scoreddocs_iter():\n",
    "    if scoreddoc.query_id == target_query_id:\n",
    "        target_query_docs.append((scoreddoc.doc_id, scoreddoc.score))\n",
    "i=1\n",
    "for doc_id, score in target_query_docs:\n",
    "    print(f\"Rank: {i}, Doc ID: {doc_id}\")\n",
    "    i+=1\n",
    "    if i==26:\n",
    "      break\n"
   ]
  },
  {
   "cell_type": "markdown",
   "metadata": {
    "id": "Hw3B2f3rJSai"
   },
   "source": [
    "#Lets take the top ranked document and test it against 5th ranked document"
   ]
  },
  {
   "cell_type": "code",
   "execution_count": 10,
   "metadata": {
    "colab": {
     "base_uri": "https://localhost:8080/"
    },
    "id": "774xccnOPovq",
    "outputId": "a6119396-59d4-45a2-de47-a1016c0f09eb"
   },
   "outputs": [
    {
     "name": "stdout",
     "output_type": "stream",
     "text": [
      "Body of Document ID 7135097:\n",
      "Herbivory: Definition & Examples 4:44 Next Lesson. Allometric Growth: Definition & Example; Isometric Growth: Definition & Example; Go to AP Biology - Animal Behavior: Help and Review\n"
     ]
    }
   ],
   "source": [
    "target_doc_id = \"7135097\"\n",
    "\n",
    "doc1 = \"\"\n",
    "\n",
    "for doc in dataset.docs_iter():\n",
    "    if doc.doc_id == target_doc_id:\n",
    "        doc1 = doc.text\n",
    "        break\n",
    "\n",
    "if doc1 is not None:\n",
    "    print(f\"Body of Document ID {target_doc_id}:\\n{doc1}\")\n",
    "else:\n",
    "    print(f\"No document found with ID {target_doc_id}\")\n"
   ]
  },
  {
   "cell_type": "code",
   "execution_count": 11,
   "metadata": {
    "colab": {
     "base_uri": "https://localhost:8080/"
    },
    "id": "NsCCCOk1dP-Q",
    "outputId": "ff34f124-ca46-44a7-b610-66ed2d155b56"
   },
   "outputs": [
    {
     "name": "stdout",
     "output_type": "stream",
     "text": [
      "Body of Document ID 719550:\n",
      "Chitin (biology) definition,meaning online encyclopedia mimi. (2) a polysaccharide which makes up the cell walls of fungi and exoskeleton of insects a tough, semitransparent substance that is the main component of the exoskeletons of art\n"
     ]
    }
   ],
   "source": [
    "target_doc_id = \"719550\"\n",
    "\n",
    "doc2 = \"\"\n",
    "\n",
    "for doc in dataset.docs_iter():\n",
    "    if doc.doc_id == target_doc_id:\n",
    "        doc2= doc.text\n",
    "        break\n",
    "\n",
    "if doc2 is not None:\n",
    "    print(f\"Body of Document ID {target_doc_id}:\\n{doc2}\")\n",
    "else:\n",
    "    print(f\"No document found with ID {target_doc_id}\")\n"
   ]
  },
  {
   "cell_type": "markdown",
   "metadata": {
    "id": "Y-nuwlixtNJe"
   },
   "source": [
    "# Applying Preprocessing on the docs"
   ]
  },
  {
   "cell_type": "code",
   "execution_count": 12,
   "metadata": {
    "id": "eBgwD4ULom_2"
   },
   "outputs": [],
   "source": [
    "ps = PorterStemmer()\n",
    "stop_words = set(stopwords.words('english'))\n",
    "\n",
    "def preprocess_string(input_string):\n",
    "\n",
    "    words = word_tokenize(input_string)\n",
    "\n",
    "    processed_words = [ps.stem(word) for word in words if word.lower() not in stop_words]\n",
    "\n",
    "    return ' '.join(processed_words)\n",
    "\n",
    "\n",
    "# Preprocess the strings\n",
    "doc1 = preprocess_string(doc1)\n",
    "doc2 = preprocess_string(doc2)\n",
    "query_text = preprocess_string(query_text)\n",
    "\n"
   ]
  },
  {
   "cell_type": "markdown",
   "metadata": {
    "id": "Dx7lz5kyT2eP"
   },
   "source": [
    "#Applying Selected Axioms to see which doc is preffered\n",
    "\n",
    "\n",
    "*   TFC1: assigns higher scores\n",
    "to documents that contain a query term more often normalised by document length\n",
    "\n",
    "*   LB1:If there is a query term t with tf(t, d1) = 0\n",
    "and tf(t, d2) > 0, then d1 < d2.\n",
    "\n",
    "*   LNC1:  two documents are compared that have the same term frequency\n",
    "for all query terms (10%-softening). Then the shorter document is preferred.\n",
    "\n",
    "*   AND: from a document pair d1 and d2 where only d1 contains all\n",
    "query terms, d1 is preferred.\n",
    "\n",
    "*   PROX1-3: The closer the query terms appear to each other in a document, the more relevant the document is.\n",
    "\n",
    "*   DIV: If the Jaccard coefficient J(d,q) for document d1 is lower than J(d,q) for document d2, then d1 is preferred over d2.\n",
    "\n",
    "\n",
    "\n",
    "\n",
    "\n",
    "\n",
    "\n",
    "\n"
   ]
  },
  {
   "cell_type": "code",
   "execution_count": 14,
   "metadata": {
    "colab": {
     "base_uri": "https://localhost:8080/",
     "height": 81
    },
    "id": "y73Md5pcDHMY",
    "outputId": "0d3d1543-d1d6-452c-d407-6fbb17c01832"
   },
   "outputs": [
    {
     "data": {
      "text/html": [
       "<div>\n",
       "<style scoped>\n",
       "    .dataframe tbody tr th:only-of-type {\n",
       "        vertical-align: middle;\n",
       "    }\n",
       "\n",
       "    .dataframe tbody tr th {\n",
       "        vertical-align: top;\n",
       "    }\n",
       "\n",
       "    .dataframe thead th {\n",
       "        text-align: right;\n",
       "    }\n",
       "</style>\n",
       "<table border=\"1\" class=\"dataframe\">\n",
       "  <thead>\n",
       "    <tr style=\"text-align: right;\">\n",
       "      <th></th>\n",
       "      <th>Query</th>\n",
       "      <th>Document 1</th>\n",
       "      <th>Document 2</th>\n",
       "      <th>TFC1</th>\n",
       "      <th>LB1</th>\n",
       "      <th>AND</th>\n",
       "      <th>DIV</th>\n",
       "      <th>PROX1</th>\n",
       "    </tr>\n",
       "  </thead>\n",
       "  <tbody>\n",
       "    <tr>\n",
       "      <th>0</th>\n",
       "      <td>exon definit biolog</td>\n",
       "      <td>herbivori : definit &amp; exa...</td>\n",
       "      <td>chitin ( biolog ) definit...</td>\n",
       "      <td>1</td>\n",
       "      <td>0</td>\n",
       "      <td>0</td>\n",
       "      <td>-1</td>\n",
       "      <td>0</td>\n",
       "    </tr>\n",
       "  </tbody>\n",
       "</table>\n",
       "</div>"
      ],
      "text/plain": [
       "                 Query                    Document 1  \\\n",
       "0  exon definit biolog  herbivori : definit & exa...   \n",
       "\n",
       "                     Document 2  TFC1  LB1  AND  DIV  PROX1  \n",
       "0  chitin ( biolog ) definit...     1    0    0   -1      0  "
      ]
     },
     "execution_count": 14,
     "metadata": {},
     "output_type": "execute_result"
    }
   ],
   "source": [
    "index_path = \"\"\n",
    "\n",
    "# Create an instance of the pairwise class\n",
    "pairwise_instance = pairwise(query_text, doc1, doc2, index_path)\n",
    "\n",
    "axiom_classes = [pairwise_instance.TFC1(), pairwise_instance.LB1(), pairwise_instance.AND(), pairwise_instance.DIV(), pairwise_instance.PROX1()]\n",
    "\n",
    "pairwise_instance.explain(query_text, doc1, doc2, axiom_classes)"
   ]
  },
  {
   "cell_type": "code",
   "execution_count": 17,
   "metadata": {
    "colab": {
     "base_uri": "https://localhost:8080/",
     "height": 81
    },
    "id": "ZyQwwk2DvU5s",
    "outputId": "38e2c9cd-08e5-4fde-b205-26750a43dfe0"
   },
   "outputs": [
    {
     "data": {
      "text/html": [
       "<div>\n",
       "<style scoped>\n",
       "    .dataframe tbody tr th:only-of-type {\n",
       "        vertical-align: middle;\n",
       "    }\n",
       "\n",
       "    .dataframe tbody tr th {\n",
       "        vertical-align: top;\n",
       "    }\n",
       "\n",
       "    .dataframe thead th {\n",
       "        text-align: right;\n",
       "    }\n",
       "</style>\n",
       "<table border=\"1\" class=\"dataframe\">\n",
       "  <thead>\n",
       "    <tr style=\"text-align: right;\">\n",
       "      <th></th>\n",
       "      <th>Query</th>\n",
       "      <th>Document 1</th>\n",
       "      <th>Document 2</th>\n",
       "      <th>CombinedAxiom</th>\n",
       "      <th>ScaledAxiom</th>\n",
       "    </tr>\n",
       "  </thead>\n",
       "  <tbody>\n",
       "    <tr>\n",
       "      <th>0</th>\n",
       "      <td>exon definit biolog</td>\n",
       "      <td>herbivori : definit &amp; exa...</td>\n",
       "      <td>chitin ( biolog ) definit...</td>\n",
       "      <td>0</td>\n",
       "      <td>1</td>\n",
       "    </tr>\n",
       "  </tbody>\n",
       "</table>\n",
       "</div>"
      ],
      "text/plain": [
       "                 Query                    Document 1  \\\n",
       "0  exon definit biolog  herbivori : definit & exa...   \n",
       "\n",
       "                     Document 2  CombinedAxiom  ScaledAxiom  \n",
       "0  chitin ( biolog ) definit...              0            1  "
      ]
     },
     "execution_count": 17,
     "metadata": {},
     "output_type": "execute_result"
    }
   ],
   "source": [
    "pairwise_instance = pairwise(query_text, doc1, doc2, index_path)\n",
    "\n",
    "axiom_classes = [4*pairwise_instance.LNC1() + 3*pairwise_instance.TFC1(), (-1)*pairwise_instance.DIV(), pairwise_instance.PROX1() + pairwise_instance.PROX2() + pairwise_instance.PROX3() ]\n",
    "\n",
    "pairwise_instance.explain(query_text, doc1, doc2, axiom_classes)"
   ]
  },
  {
   "cell_type": "markdown",
   "metadata": {
    "id": "49HT261NUZFD"
   },
   "source": [
    "More details on the following axiom -\n",
    "\n",
    "\n",
    "*   TFC1\n",
    "*   PROX1\n",
    "*   DIV\n",
    "\n",
    "\n",
    "\n"
   ]
  },
  {
   "cell_type": "code",
   "execution_count": 18,
   "metadata": {
    "colab": {
     "base_uri": "https://localhost:8080/"
    },
    "id": "Hj1bERQt3HLU",
    "outputId": "6e4b2e72-713c-41eb-d110-ecce36aed846"
   },
   "outputs": [
    {
     "name": "stdout",
     "output_type": "stream",
     "text": [
      "Term Frequency of query terms in document1 is 4\n",
      "Term Frequency of query terms in document2 is 2\n",
      "0\n"
     ]
    }
   ],
   "source": [
    "axiom_name = \"TFC1\"\n",
    "explanation = pairwise_instance.explain_details(query_text, doc1, doc2, axiom_name)\n",
    "print(explanation)"
   ]
  },
  {
   "cell_type": "markdown",
   "metadata": {
    "id": "tII-S-xkrq_A"
   },
   "source": [
    "Thus its clear from the tf values that doc1 is preferred over doc2"
   ]
  },
  {
   "cell_type": "code",
   "execution_count": 19,
   "metadata": {
    "colab": {
     "base_uri": "https://localhost:8080/"
    },
    "id": "R1thMHbP6GBR",
    "outputId": "931a406f-2ddb-43ca-a1fc-e2da7e567639"
   },
   "outputs": [
    {
     "name": "stdout",
     "output_type": "stream",
     "text": [
      "                      Metric  Document 1  Document 2\n",
      "0                   tf(exon)    0.000000         0.0\n",
      "1                tf(definit)    3.000000         1.0\n",
      "2                 tf(biolog)    1.000000         1.0\n",
      "3    avg_dist(exon, definit)    8.500000         0.0\n",
      "4     avg_dist(exon, biolog)    0.000000         0.0\n",
      "5  avg_dist(definit, biolog)    8.500000         0.0\n",
      "6                  num pairs    3.000000         3.0\n",
      "7             Total_avg_dist    5.666667         0.0\n"
     ]
    }
   ],
   "source": [
    "axiom_name = \"PROX1\"\n",
    "explanation = pairwise_instance.explain_details(query_text, doc1, doc2, axiom_name)\n",
    "print(explanation)"
   ]
  },
  {
   "cell_type": "markdown",
   "metadata": {
    "id": "29BY3wXqr2qO"
   },
   "source": [
    "document 2 doesnt contain all the query terms thus as per the axiom rules the axiom doesnt prefer any document"
   ]
  },
  {
   "cell_type": "code",
   "execution_count": 20,
   "metadata": {
    "colab": {
     "base_uri": "https://localhost:8080/"
    },
    "id": "EOhLroCXpUOy",
    "outputId": "b2a00316-e960-4793-c490-682d769a91ce"
   },
   "outputs": [
    {
     "name": "stdout",
     "output_type": "stream",
     "text": [
      "Jaccard Co-efficient of doc1 is:0.09090909090909091\n",
      "Jaccard Co-efficient of doc2 is:0.07692307692307693\n",
      "0\n"
     ]
    }
   ],
   "source": [
    "axiom_name = \"DIV\"\n",
    "explanation = pairwise_instance.explain_details(query_text, doc1, doc2, axiom_name)\n",
    "print(explanation)"
   ]
  },
  {
   "cell_type": "markdown",
   "metadata": {
    "id": "XLMauF2EsToo"
   },
   "source": [
    "Since the Jaccard Co-efficient of doc2 is lesser its preffered as seen"
   ]
  }
 ],
 "metadata": {
  "colab": {
   "provenance": []
  },
  "kernelspec": {
   "display_name": "Python 3 (ipykernel)",
   "language": "python",
   "name": "python3"
  },
  "language_info": {
   "codemirror_mode": {
    "name": "ipython",
    "version": 3
   },
   "file_extension": ".py",
   "mimetype": "text/x-python",
   "name": "python",
   "nbconvert_exporter": "python",
   "pygments_lexer": "ipython3",
   "version": "3.9.19"
  }
 },
 "nbformat": 4,
 "nbformat_minor": 1
}
